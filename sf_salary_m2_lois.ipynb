{
 "cells": [
  {
   "cell_type": "code",
   "execution_count": 3,
   "id": "bf642838-5ebe-4f62-8aad-781d6cbf780a",
   "metadata": {},
   "outputs": [
    {
     "name": "stdout",
     "output_type": "stream",
     "text": [
      "Data loaded successfully!\n"
     ]
    }
   ],
   "source": [
    "# Import Data\n",
    "import pandas as pd\n",
    "\n",
    "# Load the dataset\n",
    "df = pd.read_csv('Downloads/m2 assignment/Total.csv', encoding='ISO-8859-1', low_memory=False)\n",
    "print(\"Data loaded successfully!\")"
   ]
  },
  {
   "cell_type": "code",
   "execution_count": 5,
   "id": "468ca463-7ae6-40d9-a437-1d1503e162c6",
   "metadata": {},
   "outputs": [],
   "source": [
    "# Create an Employee Function\n",
    "def get_employee_details(name):\n",
    "    try:\n",
    "        employee_details = df[df['EmployeeName'] == name]\n",
    "        if employee_details.empty:\n",
    "            return f\"No employee found with the name: {name}\"\n",
    "        return employee_details\n",
    "    except Exception as e:\n",
    "        return f\"An error occurred: {e}\""
   ]
  },
  {
   "cell_type": "code",
   "execution_count": 11,
   "id": "1604d78f-cee8-417d-bff5-b76ab3dcb385",
   "metadata": {},
   "outputs": [
    {
     "name": "stdout",
     "output_type": "stream",
     "text": [
      "         EmployeeName                                        JobTitle  \\\n",
      "0      NATHANIEL FORD  GENERAL MANAGER-METROPOLITAN TRANSIT AUTHORITY   \n",
      "1        GARY JIMENEZ                 CAPTAIN III (POLICE DEPARTMENT)   \n",
      "2      ALBERT PARDINI                 CAPTAIN III (POLICE DEPARTMENT)   \n",
      "3   CHRISTOPHER CHONG            WIRE ROPE CABLE MAINTENANCE MECHANIC   \n",
      "4     PATRICK GARDNER    DEPUTY CHIEF OF DEPARTMENT,(FIRE DEPARTMENT)   \n",
      "5      DAVID SULLIVAN                       ASSISTANT DEPUTY CHIEF II   \n",
      "6           ALSON LEE              BATTALION CHIEF, (FIRE DEPARTMENT)   \n",
      "7       DAVID KUSHNER                  DEPUTY DIRECTOR OF INVESTMENTS   \n",
      "8      MICHAEL MORRIS              BATTALION CHIEF, (FIRE DEPARTMENT)   \n",
      "9  JOANNE HAYES-WHITE          CHIEF OF DEPARTMENT, (FIRE DEPARTMENT)   \n",
      "\n",
      "     BasePay OvertimePay   OtherPay      Benefits   TotalPay  \\\n",
      "0  167411.18        0.00  400184.25  Not Provided  567595.43   \n",
      "1  155966.02   245131.88  137811.38  Not Provided  538909.28   \n",
      "2  212739.13   106088.18   16452.60  Not Provided  335279.91   \n",
      "3   77916.00    56120.71  198306.90  Not Provided  332343.61   \n",
      "4  134401.60     9737.00  182234.59  Not Provided  326373.19   \n",
      "5  118602.00     8601.00  189082.74  Not Provided  316285.74   \n",
      "6   92492.01    89062.90  134426.14  Not Provided  315981.05   \n",
      "7  256576.96        0.00   51322.50  Not Provided  307899.46   \n",
      "8  176932.64    86362.68   40132.23  Not Provided  303427.55   \n",
      "9  285262.00        0.00   17115.73  Not Provided  302377.73   \n",
      "\n",
      "   TotalPayBenefits  Year  \n",
      "0         567595.43  2011  \n",
      "1         538909.28  2011  \n",
      "2         335279.91  2011  \n",
      "3         332343.61  2011  \n",
      "4         326373.19  2011  \n",
      "5         316285.74  2011  \n",
      "6         315981.05  2011  \n",
      "7         307899.46  2011  \n",
      "8         303427.55  2011  \n",
      "9         302377.73  2011  \n"
     ]
    }
   ],
   "source": [
    "# Data Processing with Dictionary\n",
    "\n",
    "employee_dict = {}\n",
    "\n",
    "for index, row in df.iterrows():\n",
    "    employee_dict[row['EmployeeName']] = {\n",
    "        'JobTitle': row['JobTitle'],\n",
    "        'Salary': row['TotalPay']\n",
    "    }\n",
    "\n",
    "# Good: Limit output\n",
    "print(df.head(10))  # Show first 10 rows"
   ]
  },
  {
   "cell_type": "code",
   "execution_count": 17,
   "id": "e53ad1ae-ce3f-4009-805b-fe2a397411eb",
   "metadata": {},
   "outputs": [],
   "source": [
    "# Error Handling\n",
    "\n",
    "def get_employee_details_safe(name):\n",
    "    try:\n",
    "        employee_details = df[df['EmployeeName'] == name]\n",
    "        if employee_details.empty:\n",
    "            raise ValueError(f\"No employee found with the name: {name}\")\n",
    "        return employee_details\n",
    "    except ValueError as ve:\n",
    "        return str(ve)\n",
    "    except Exception as e:\n",
    "        return f\"An unexpected error occurred: {e}\""
   ]
  },
  {
   "cell_type": "code",
   "execution_count": 21,
   "id": "23e46b1e-7053-40db-8ed1-5ccc59e08c12",
   "metadata": {},
   "outputs": [],
   "source": [
    "# Export Employee Details to CSV and Zip\n",
    "import os\n",
    "import zipfile\n",
    "\n",
    "def export_employee_details(name):\n",
    "    try:\n",
    "        # Create directory if it doesn't exist\n",
    "        os.makedirs(\"Employee Profile\", exist_ok=True)\n",
    "        \n",
    "        # Create CSV filename\n",
    "        csv_filename = f\"Employee Profile/{name.replace(' ', '_')}_details.csv\"\n",
    "        \n",
    "        # Create zip file\n",
    "        zip_filename = f\"Employee Profile/{name.replace(' ', '_')}_profile.zip\"\n",
    "        \n",
    "        # Write to zip file\n",
    "        with zipfile.ZipFile(zip_filename, 'w') as zipf:\n",
    "            zipf.write(csv_filename, os.path.basename(csv_filename))\n",
    "        \n",
    "        print(f\"Success: Employee details for {name} zipped in {zip_filename}\")\n",
    "        return True\n",
    "        \n",
    "    except Exception as e:\n",
    "        print(f\"Error: {str(e)}\")\n",
    "        return False"
   ]
  },
  {
   "cell_type": "code",
   "execution_count": 27,
   "id": "1201374a-e4d7-437c-a8d1-af99da00e947",
   "metadata": {},
   "outputs": [
    {
     "name": "stdout",
     "output_type": "stream",
     "text": [
      "R Script Output:\n",
      "  EmployeeName JobTitle BasePay\n",
      "1     John Doe  Manager   50000\n",
      "\n"
     ]
    }
   ],
   "source": [
    "import subprocess\n",
    "import os\n",
    "\n",
    "# Path to the R script\n",
    "r_script_path = os.path.abspath(r\"C:\\Users\\loisi\\Downloads\\m2 assignment\\Unzip_and_display_file.R\") # Absolute path\n",
    "\n",
    "# Check if the file exists\n",
    "if not os.path.exists(r_script_path):\n",
    "    print(f\"Error: File '{r_script_path}' not found!\")\n",
    "else:\n",
    "    try:\n",
    "        # Run the R script\n",
    "        result = subprocess.run(\n",
    "            [\"Rscript\", r_script_path],\n",
    "            capture_output=True,\n",
    "            text=True,\n",
    "            check=True\n",
    "        )\n",
    "        print(\"R Script Output:\")\n",
    "        print(result.stdout)\n",
    "    except subprocess.CalledProcessError as e:\n",
    "        print(\"Error running R script:\", e.stderr)"
   ]
  },
  {
   "cell_type": "code",
   "execution_count": null,
   "id": "4f9112b4-cafb-4d15-8e5e-d2dd4b99e025",
   "metadata": {},
   "outputs": [],
   "source": []
  }
 ],
 "metadata": {
  "kernelspec": {
   "display_name": "Python [conda env:base] *",
   "language": "python",
   "name": "conda-base-py"
  },
  "language_info": {
   "codemirror_mode": {
    "name": "ipython",
    "version": 3
   },
   "file_extension": ".py",
   "mimetype": "text/x-python",
   "name": "python",
   "nbconvert_exporter": "python",
   "pygments_lexer": "ipython3",
   "version": "3.12.3"
  }
 },
 "nbformat": 4,
 "nbformat_minor": 5
}
